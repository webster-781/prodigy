{
 "cells": [
  {
   "cell_type": "code",
   "execution_count": 3,
   "metadata": {},
   "outputs": [],
   "source": [
    "import sys\n",
    "sys.path.append(\"/DATATWO/users/ayush/prodigy\")"
   ]
  },
  {
   "cell_type": "code",
   "execution_count": 6,
   "metadata": {},
   "outputs": [],
   "source": [
    "from experiments.trainer import *\n",
    "from models.get_model import *\n",
    "import json"
   ]
  },
  {
   "cell_type": "code",
   "execution_count": 8,
   "metadata": {},
   "outputs": [],
   "source": [
    "params = {'root': '/DATATWO/users/ayush/FSdatasets/', 'dataset': 'mag240m', 'invalidate_cache': False, 'dataset_len_cap': 50010, 'val_len_cap': 100, 'test_len_cap': 100, 'shuffle_index': False, 'force_cache': False, 'classification_only': False, 'early_stopping_patience': 20, 'reset_after_layer': None, 'original_features': True, 'override_log': False, 'seed': None, 'metric': 'Acc', 'learning_rate': 0.0003, 'epochs': 1, 'print_epoch': 10, 'eval_epoch': 10, 'checkpoint_epoch': 10, 'print_step': 2000, 'eval_step': 1000, 'checkpoint_step': 1000, 'batch_size': 1, 'weight_decay': 0.001, 'dropout': 0, 'text_features_dropout': 0, 'rel_sample_random_seed': None, 'split_train_nodes': False, 'verbose': False, 'workers': 10, 'device': torch.device(type='cuda', index=2), 'input_dim': 768, 'emb_dim': 256, 'gnn_type': 'sage', 'n_layer': 1, 'meta_n_layer': 1, 'second_gnn': 'Atten', 'attention_mask_scheme': 'causal', 'skip_path': False, 'has_final_back': False, 'layers': 'S2,U,M', 'ignore_label_embeddings': True, 'zero_label_embeddings': False, 'not_freeze_learned_label_embedding': False, 'linear_probe': False, 'fix_datasets_first': False, 'no_bn_metagraph': False, 'no_bn_encoder': False, 'calc_ranks': False, 'eval_only': False, 'meta_gnn_pos_only': False, 'task_name': 'cls_nm_sb', 'zero_shot': False, 'no_split_labels': True, 'all_test': False, 'train_cap': None, 'label_set': None, 'csr_split': False, 'n_way': 30, 'n_shots': 3, 'n_query': 4, 'n_way_upper': -1, 'n_shots_upper': -1, 'n_query_upper': -1, 'max_length': -1, 'augmentation': 'ND0.5,NZ0.5', 'augment_test': True, 'attr_regression_weight': 1000.0, 'prefix': 'MAG_PT_PRODIGY', 'timestamp': '28_01_2024_09_24_31', 'log_dir': 'log', 'state_dir': 'state', 'bert_emb_model': 'multi-qa-distilbert-cos-v1', 'bert_cache': 'multi-qa-distilbert-cos-v1', 'kg_emb_model': '', 'pretrained_model_run': '', 'small_dataset': False, 'experiment_type': 'metagraph', 'exp_name': 'MAG_PT_PRODIGY_28_01_2024_09_24_31'}"
   ]
  },
  {
   "cell_type": "code",
   "execution_count": 10,
   "metadata": {},
   "outputs": [],
   "source": [
    "txt_dropout=torch.nn.Dropout(params[\"text_features_dropout\"])"
   ]
  },
  {
   "cell_type": "code",
   "execution_count": 25,
   "metadata": {},
   "outputs": [],
   "source": [
    "state_dict = torch.load(\"/DATATWO/users/ayush/prodigy/state/MAG_PT_PRODIGY_27_01_2024_14_59_56/state_dict\", map_location='cuda:2')\n",
    "layer_list = get_module_list(\n",
    "  module_string='S2,U,M',\n",
    "  emb_dim=256,\n",
    "  edge_attr_dim=None,\n",
    "  input_dim=768,\n",
    "  dropout=0,\n",
    "  reset_after_layer=None,\n",
    "  attention_mask_scheme='causal',\n",
    "  has_final_back=False,\n",
    "  msg_pos_only=False,\n",
    "  batch_norm_metagraph=True,\n",
    "  batch_norm_encoder=True,\n",
    "  gnn_use_relu=False\n",
    ")\n",
    "initial_label_mlp = torch.nn.Linear(768, 256)\n",
    "layer_list = torch.nn.ModuleList(layer_list)\n",
    "model = SingleLayerGeneralGNN(\n",
    "  layer_list=layer_list, \n",
    "  initial_label_mlp=initial_label_mlp, \n",
    "  params=params, \n",
    "  text_dropout=txt_dropout)"
   ]
  },
  {
   "cell_type": "code",
   "execution_count": 28,
   "metadata": {},
   "outputs": [
    {
     "data": {
      "text/plain": [
       "<All keys matched successfully>"
      ]
     },
     "execution_count": 28,
     "metadata": {},
     "output_type": "execute_result"
    }
   ],
   "source": [
    "model.load_state_dict(state_dict['model'])"
   ]
  },
  {
   "cell_type": "code",
   "execution_count": 29,
   "metadata": {},
   "outputs": [
    {
     "data": {
      "text/plain": [
       "SingleLayerGeneralGNN(\n",
       "  (layer_list): ModuleList(\n",
       "    (0): MultiLayerGNN(\n",
       "      (module_list): ModuleList(\n",
       "        (0-1): 2 x SAGEConvSelfLoops()\n",
       "      )\n",
       "      (act): ReLU()\n",
       "      (reset_mlp): Linear(in_features=512, out_features=256, bias=True)\n",
       "      (reset_mlp_c): Linear(in_features=256, out_features=256, bias=True)\n",
       "      (reset_mlp_m): Linear(in_features=256, out_features=256, bias=True)\n",
       "    )\n",
       "    (1): BgGraphToSupernodePropagator()\n",
       "    (2): MetaGNN(\n",
       "      (gnn_layers): ModuleList(\n",
       "        (0): MetaGNNLayer()\n",
       "      )\n",
       "      (gnn_non_linear): GELU(approximate='none')\n",
       "    )\n",
       "  )\n",
       "  (cos): CosineSimilarity()\n",
       "  (initial_label_mlp): Linear(in_features=768, out_features=256, bias=True)\n",
       "  (initial_input_mlp): Identity()\n",
       "  (final_label_mlp): Identity()\n",
       "  (final_input_mlp): Identity()\n",
       "  (learned_label_embedding): Embedding(1000, 256)\n",
       "  (txt_dropout): Dropout(p=0, inplace=False)\n",
       ")"
      ]
     },
     "execution_count": 29,
     "metadata": {},
     "output_type": "execute_result"
    }
   ],
   "source": [
    "model"
   ]
  },
  {
   "cell_type": "code",
   "execution_count": null,
   "metadata": {},
   "outputs": [],
   "source": []
  }
 ],
 "metadata": {
  "kernelspec": {
   "display_name": "prodigyenv",
   "language": "python",
   "name": "python3"
  },
  "language_info": {
   "codemirror_mode": {
    "name": "ipython",
    "version": 3
   },
   "file_extension": ".py",
   "mimetype": "text/x-python",
   "name": "python",
   "nbconvert_exporter": "python",
   "pygments_lexer": "ipython3",
   "version": "3.10.13"
  }
 },
 "nbformat": 4,
 "nbformat_minor": 2
}
